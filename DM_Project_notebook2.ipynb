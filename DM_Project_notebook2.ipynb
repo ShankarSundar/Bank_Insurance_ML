{
 "cells": [
  {
   "cell_type": "code",
   "execution_count": 1,
   "id": "71a4d156",
   "metadata": {},
   "outputs": [],
   "source": [
    "import pandas as pd\n",
    "import numpy as np\n",
    "import seaborn as sns\n",
    "import matplotlib.pyplot as plt\n",
    "from sklearn.tree import DecisionTreeClassifier\n",
    "from sklearn.ensemble import RandomForestClassifier\n",
    "from sklearn.neural_network import MLPClassifier\n",
    "import warnings\n",
    "warnings.filterwarnings(\"ignore\")"
   ]
  },
  {
   "cell_type": "code",
   "execution_count": 2,
   "id": "774492d9",
   "metadata": {},
   "outputs": [],
   "source": [
    "df= pd.read_csv('insurance_part2_data.csv')"
   ]
  },
  {
   "cell_type": "code",
   "execution_count": 3,
   "id": "c7c3d539",
   "metadata": {},
   "outputs": [
    {
     "data": {
      "text/html": [
       "<div>\n",
       "<style scoped>\n",
       "    .dataframe tbody tr th:only-of-type {\n",
       "        vertical-align: middle;\n",
       "    }\n",
       "\n",
       "    .dataframe tbody tr th {\n",
       "        vertical-align: top;\n",
       "    }\n",
       "\n",
       "    .dataframe thead th {\n",
       "        text-align: right;\n",
       "    }\n",
       "</style>\n",
       "<table border=\"1\" class=\"dataframe\">\n",
       "  <thead>\n",
       "    <tr style=\"text-align: right;\">\n",
       "      <th></th>\n",
       "      <th>Age</th>\n",
       "      <th>Agency_Code</th>\n",
       "      <th>Type</th>\n",
       "      <th>Claimed</th>\n",
       "      <th>Commision</th>\n",
       "      <th>Channel</th>\n",
       "      <th>Duration</th>\n",
       "      <th>Sales</th>\n",
       "      <th>Product Name</th>\n",
       "      <th>Destination</th>\n",
       "    </tr>\n",
       "  </thead>\n",
       "  <tbody>\n",
       "    <tr>\n",
       "      <th>0</th>\n",
       "      <td>48</td>\n",
       "      <td>C2B</td>\n",
       "      <td>Airlines</td>\n",
       "      <td>No</td>\n",
       "      <td>0.70</td>\n",
       "      <td>Online</td>\n",
       "      <td>7</td>\n",
       "      <td>2.51</td>\n",
       "      <td>Customised Plan</td>\n",
       "      <td>ASIA</td>\n",
       "    </tr>\n",
       "    <tr>\n",
       "      <th>1</th>\n",
       "      <td>36</td>\n",
       "      <td>EPX</td>\n",
       "      <td>Travel Agency</td>\n",
       "      <td>No</td>\n",
       "      <td>0.00</td>\n",
       "      <td>Online</td>\n",
       "      <td>34</td>\n",
       "      <td>20.00</td>\n",
       "      <td>Customised Plan</td>\n",
       "      <td>ASIA</td>\n",
       "    </tr>\n",
       "    <tr>\n",
       "      <th>2</th>\n",
       "      <td>39</td>\n",
       "      <td>CWT</td>\n",
       "      <td>Travel Agency</td>\n",
       "      <td>No</td>\n",
       "      <td>5.94</td>\n",
       "      <td>Online</td>\n",
       "      <td>3</td>\n",
       "      <td>9.90</td>\n",
       "      <td>Customised Plan</td>\n",
       "      <td>Americas</td>\n",
       "    </tr>\n",
       "    <tr>\n",
       "      <th>3</th>\n",
       "      <td>36</td>\n",
       "      <td>EPX</td>\n",
       "      <td>Travel Agency</td>\n",
       "      <td>No</td>\n",
       "      <td>0.00</td>\n",
       "      <td>Online</td>\n",
       "      <td>4</td>\n",
       "      <td>26.00</td>\n",
       "      <td>Cancellation Plan</td>\n",
       "      <td>ASIA</td>\n",
       "    </tr>\n",
       "    <tr>\n",
       "      <th>4</th>\n",
       "      <td>33</td>\n",
       "      <td>JZI</td>\n",
       "      <td>Airlines</td>\n",
       "      <td>No</td>\n",
       "      <td>6.30</td>\n",
       "      <td>Online</td>\n",
       "      <td>53</td>\n",
       "      <td>18.00</td>\n",
       "      <td>Bronze Plan</td>\n",
       "      <td>ASIA</td>\n",
       "    </tr>\n",
       "  </tbody>\n",
       "</table>\n",
       "</div>"
      ],
      "text/plain": [
       "   Age Agency_Code           Type Claimed  Commision Channel  Duration  Sales  \\\n",
       "0   48         C2B       Airlines      No       0.70  Online         7   2.51   \n",
       "1   36         EPX  Travel Agency      No       0.00  Online        34  20.00   \n",
       "2   39         CWT  Travel Agency      No       5.94  Online         3   9.90   \n",
       "3   36         EPX  Travel Agency      No       0.00  Online         4  26.00   \n",
       "4   33         JZI       Airlines      No       6.30  Online        53  18.00   \n",
       "\n",
       "        Product Name Destination  \n",
       "0    Customised Plan        ASIA  \n",
       "1    Customised Plan        ASIA  \n",
       "2    Customised Plan    Americas  \n",
       "3  Cancellation Plan        ASIA  \n",
       "4        Bronze Plan        ASIA  "
      ]
     },
     "execution_count": 3,
     "metadata": {},
     "output_type": "execute_result"
    }
   ],
   "source": [
    "df.head()"
   ]
  },
  {
   "cell_type": "code",
   "execution_count": 4,
   "id": "fdf90525",
   "metadata": {},
   "outputs": [
    {
     "data": {
      "text/html": [
       "<div>\n",
       "<style scoped>\n",
       "    .dataframe tbody tr th:only-of-type {\n",
       "        vertical-align: middle;\n",
       "    }\n",
       "\n",
       "    .dataframe tbody tr th {\n",
       "        vertical-align: top;\n",
       "    }\n",
       "\n",
       "    .dataframe thead th {\n",
       "        text-align: right;\n",
       "    }\n",
       "</style>\n",
       "<table border=\"1\" class=\"dataframe\">\n",
       "  <thead>\n",
       "    <tr style=\"text-align: right;\">\n",
       "      <th></th>\n",
       "      <th>Age</th>\n",
       "      <th>Agency_Code</th>\n",
       "      <th>Type</th>\n",
       "      <th>Claimed</th>\n",
       "      <th>Commision</th>\n",
       "      <th>Channel</th>\n",
       "      <th>Duration</th>\n",
       "      <th>Sales</th>\n",
       "      <th>Product Name</th>\n",
       "      <th>Destination</th>\n",
       "    </tr>\n",
       "  </thead>\n",
       "  <tbody>\n",
       "    <tr>\n",
       "      <th>2995</th>\n",
       "      <td>28</td>\n",
       "      <td>CWT</td>\n",
       "      <td>Travel Agency</td>\n",
       "      <td>Yes</td>\n",
       "      <td>166.53</td>\n",
       "      <td>Online</td>\n",
       "      <td>364</td>\n",
       "      <td>256.20</td>\n",
       "      <td>Gold Plan</td>\n",
       "      <td>Americas</td>\n",
       "    </tr>\n",
       "    <tr>\n",
       "      <th>2996</th>\n",
       "      <td>35</td>\n",
       "      <td>C2B</td>\n",
       "      <td>Airlines</td>\n",
       "      <td>No</td>\n",
       "      <td>13.50</td>\n",
       "      <td>Online</td>\n",
       "      <td>5</td>\n",
       "      <td>54.00</td>\n",
       "      <td>Gold Plan</td>\n",
       "      <td>ASIA</td>\n",
       "    </tr>\n",
       "    <tr>\n",
       "      <th>2997</th>\n",
       "      <td>36</td>\n",
       "      <td>EPX</td>\n",
       "      <td>Travel Agency</td>\n",
       "      <td>No</td>\n",
       "      <td>0.00</td>\n",
       "      <td>Online</td>\n",
       "      <td>54</td>\n",
       "      <td>28.00</td>\n",
       "      <td>Customised Plan</td>\n",
       "      <td>ASIA</td>\n",
       "    </tr>\n",
       "    <tr>\n",
       "      <th>2998</th>\n",
       "      <td>34</td>\n",
       "      <td>C2B</td>\n",
       "      <td>Airlines</td>\n",
       "      <td>Yes</td>\n",
       "      <td>7.64</td>\n",
       "      <td>Online</td>\n",
       "      <td>39</td>\n",
       "      <td>30.55</td>\n",
       "      <td>Bronze Plan</td>\n",
       "      <td>ASIA</td>\n",
       "    </tr>\n",
       "    <tr>\n",
       "      <th>2999</th>\n",
       "      <td>47</td>\n",
       "      <td>JZI</td>\n",
       "      <td>Airlines</td>\n",
       "      <td>No</td>\n",
       "      <td>11.55</td>\n",
       "      <td>Online</td>\n",
       "      <td>15</td>\n",
       "      <td>33.00</td>\n",
       "      <td>Bronze Plan</td>\n",
       "      <td>ASIA</td>\n",
       "    </tr>\n",
       "  </tbody>\n",
       "</table>\n",
       "</div>"
      ],
      "text/plain": [
       "      Age Agency_Code           Type Claimed  Commision Channel  Duration  \\\n",
       "2995   28         CWT  Travel Agency     Yes     166.53  Online       364   \n",
       "2996   35         C2B       Airlines      No      13.50  Online         5   \n",
       "2997   36         EPX  Travel Agency      No       0.00  Online        54   \n",
       "2998   34         C2B       Airlines     Yes       7.64  Online        39   \n",
       "2999   47         JZI       Airlines      No      11.55  Online        15   \n",
       "\n",
       "       Sales     Product Name Destination  \n",
       "2995  256.20        Gold Plan    Americas  \n",
       "2996   54.00        Gold Plan        ASIA  \n",
       "2997   28.00  Customised Plan        ASIA  \n",
       "2998   30.55      Bronze Plan        ASIA  \n",
       "2999   33.00      Bronze Plan        ASIA  "
      ]
     },
     "execution_count": 4,
     "metadata": {},
     "output_type": "execute_result"
    }
   ],
   "source": [
    "df.tail()"
   ]
  },
  {
   "cell_type": "code",
   "execution_count": 5,
   "id": "7262998d",
   "metadata": {},
   "outputs": [
    {
     "data": {
      "text/plain": [
       "(3000, 10)"
      ]
     },
     "execution_count": 5,
     "metadata": {},
     "output_type": "execute_result"
    }
   ],
   "source": [
    "df.shape"
   ]
  },
  {
   "cell_type": "code",
   "execution_count": 6,
   "id": "064d9a81",
   "metadata": {},
   "outputs": [
    {
     "name": "stdout",
     "output_type": "stream",
     "text": [
      "<class 'pandas.core.frame.DataFrame'>\n",
      "RangeIndex: 3000 entries, 0 to 2999\n",
      "Data columns (total 10 columns):\n",
      " #   Column        Non-Null Count  Dtype  \n",
      "---  ------        --------------  -----  \n",
      " 0   Age           3000 non-null   int64  \n",
      " 1   Agency_Code   3000 non-null   object \n",
      " 2   Type          3000 non-null   object \n",
      " 3   Claimed       3000 non-null   object \n",
      " 4   Commision     3000 non-null   float64\n",
      " 5   Channel       3000 non-null   object \n",
      " 6   Duration      3000 non-null   int64  \n",
      " 7   Sales         3000 non-null   float64\n",
      " 8   Product Name  3000 non-null   object \n",
      " 9   Destination   3000 non-null   object \n",
      "dtypes: float64(2), int64(2), object(6)\n",
      "memory usage: 234.5+ KB\n"
     ]
    }
   ],
   "source": [
    "df.info()"
   ]
  },
  {
   "cell_type": "code",
   "execution_count": 7,
   "id": "bd80f641",
   "metadata": {},
   "outputs": [
    {
     "data": {
      "text/html": [
       "<div>\n",
       "<style scoped>\n",
       "    .dataframe tbody tr th:only-of-type {\n",
       "        vertical-align: middle;\n",
       "    }\n",
       "\n",
       "    .dataframe tbody tr th {\n",
       "        vertical-align: top;\n",
       "    }\n",
       "\n",
       "    .dataframe thead th {\n",
       "        text-align: right;\n",
       "    }\n",
       "</style>\n",
       "<table border=\"1\" class=\"dataframe\">\n",
       "  <thead>\n",
       "    <tr style=\"text-align: right;\">\n",
       "      <th></th>\n",
       "      <th>Age</th>\n",
       "      <th>Agency_Code</th>\n",
       "      <th>Type</th>\n",
       "      <th>Claimed</th>\n",
       "      <th>Commision</th>\n",
       "      <th>Channel</th>\n",
       "      <th>Duration</th>\n",
       "      <th>Sales</th>\n",
       "      <th>Product Name</th>\n",
       "      <th>Destination</th>\n",
       "    </tr>\n",
       "  </thead>\n",
       "  <tbody>\n",
       "    <tr>\n",
       "      <th>count</th>\n",
       "      <td>3000.000000</td>\n",
       "      <td>3000</td>\n",
       "      <td>3000</td>\n",
       "      <td>3000</td>\n",
       "      <td>3000.000000</td>\n",
       "      <td>3000</td>\n",
       "      <td>3000.000000</td>\n",
       "      <td>3000.000000</td>\n",
       "      <td>3000</td>\n",
       "      <td>3000</td>\n",
       "    </tr>\n",
       "    <tr>\n",
       "      <th>unique</th>\n",
       "      <td>NaN</td>\n",
       "      <td>4</td>\n",
       "      <td>2</td>\n",
       "      <td>2</td>\n",
       "      <td>NaN</td>\n",
       "      <td>2</td>\n",
       "      <td>NaN</td>\n",
       "      <td>NaN</td>\n",
       "      <td>5</td>\n",
       "      <td>3</td>\n",
       "    </tr>\n",
       "    <tr>\n",
       "      <th>top</th>\n",
       "      <td>NaN</td>\n",
       "      <td>EPX</td>\n",
       "      <td>Travel Agency</td>\n",
       "      <td>No</td>\n",
       "      <td>NaN</td>\n",
       "      <td>Online</td>\n",
       "      <td>NaN</td>\n",
       "      <td>NaN</td>\n",
       "      <td>Customised Plan</td>\n",
       "      <td>ASIA</td>\n",
       "    </tr>\n",
       "    <tr>\n",
       "      <th>freq</th>\n",
       "      <td>NaN</td>\n",
       "      <td>1365</td>\n",
       "      <td>1837</td>\n",
       "      <td>2076</td>\n",
       "      <td>NaN</td>\n",
       "      <td>2954</td>\n",
       "      <td>NaN</td>\n",
       "      <td>NaN</td>\n",
       "      <td>1136</td>\n",
       "      <td>2465</td>\n",
       "    </tr>\n",
       "    <tr>\n",
       "      <th>mean</th>\n",
       "      <td>38.091000</td>\n",
       "      <td>NaN</td>\n",
       "      <td>NaN</td>\n",
       "      <td>NaN</td>\n",
       "      <td>14.529203</td>\n",
       "      <td>NaN</td>\n",
       "      <td>70.001333</td>\n",
       "      <td>60.249913</td>\n",
       "      <td>NaN</td>\n",
       "      <td>NaN</td>\n",
       "    </tr>\n",
       "    <tr>\n",
       "      <th>std</th>\n",
       "      <td>10.463518</td>\n",
       "      <td>NaN</td>\n",
       "      <td>NaN</td>\n",
       "      <td>NaN</td>\n",
       "      <td>25.481455</td>\n",
       "      <td>NaN</td>\n",
       "      <td>134.053313</td>\n",
       "      <td>70.733954</td>\n",
       "      <td>NaN</td>\n",
       "      <td>NaN</td>\n",
       "    </tr>\n",
       "    <tr>\n",
       "      <th>min</th>\n",
       "      <td>8.000000</td>\n",
       "      <td>NaN</td>\n",
       "      <td>NaN</td>\n",
       "      <td>NaN</td>\n",
       "      <td>0.000000</td>\n",
       "      <td>NaN</td>\n",
       "      <td>-1.000000</td>\n",
       "      <td>0.000000</td>\n",
       "      <td>NaN</td>\n",
       "      <td>NaN</td>\n",
       "    </tr>\n",
       "    <tr>\n",
       "      <th>25%</th>\n",
       "      <td>32.000000</td>\n",
       "      <td>NaN</td>\n",
       "      <td>NaN</td>\n",
       "      <td>NaN</td>\n",
       "      <td>0.000000</td>\n",
       "      <td>NaN</td>\n",
       "      <td>11.000000</td>\n",
       "      <td>20.000000</td>\n",
       "      <td>NaN</td>\n",
       "      <td>NaN</td>\n",
       "    </tr>\n",
       "    <tr>\n",
       "      <th>50%</th>\n",
       "      <td>36.000000</td>\n",
       "      <td>NaN</td>\n",
       "      <td>NaN</td>\n",
       "      <td>NaN</td>\n",
       "      <td>4.630000</td>\n",
       "      <td>NaN</td>\n",
       "      <td>26.500000</td>\n",
       "      <td>33.000000</td>\n",
       "      <td>NaN</td>\n",
       "      <td>NaN</td>\n",
       "    </tr>\n",
       "    <tr>\n",
       "      <th>75%</th>\n",
       "      <td>42.000000</td>\n",
       "      <td>NaN</td>\n",
       "      <td>NaN</td>\n",
       "      <td>NaN</td>\n",
       "      <td>17.235000</td>\n",
       "      <td>NaN</td>\n",
       "      <td>63.000000</td>\n",
       "      <td>69.000000</td>\n",
       "      <td>NaN</td>\n",
       "      <td>NaN</td>\n",
       "    </tr>\n",
       "    <tr>\n",
       "      <th>max</th>\n",
       "      <td>84.000000</td>\n",
       "      <td>NaN</td>\n",
       "      <td>NaN</td>\n",
       "      <td>NaN</td>\n",
       "      <td>210.210000</td>\n",
       "      <td>NaN</td>\n",
       "      <td>4580.000000</td>\n",
       "      <td>539.000000</td>\n",
       "      <td>NaN</td>\n",
       "      <td>NaN</td>\n",
       "    </tr>\n",
       "  </tbody>\n",
       "</table>\n",
       "</div>"
      ],
      "text/plain": [
       "                Age Agency_Code           Type Claimed    Commision Channel  \\\n",
       "count   3000.000000        3000           3000    3000  3000.000000    3000   \n",
       "unique          NaN           4              2       2          NaN       2   \n",
       "top             NaN         EPX  Travel Agency      No          NaN  Online   \n",
       "freq            NaN        1365           1837    2076          NaN    2954   \n",
       "mean      38.091000         NaN            NaN     NaN    14.529203     NaN   \n",
       "std       10.463518         NaN            NaN     NaN    25.481455     NaN   \n",
       "min        8.000000         NaN            NaN     NaN     0.000000     NaN   \n",
       "25%       32.000000         NaN            NaN     NaN     0.000000     NaN   \n",
       "50%       36.000000         NaN            NaN     NaN     4.630000     NaN   \n",
       "75%       42.000000         NaN            NaN     NaN    17.235000     NaN   \n",
       "max       84.000000         NaN            NaN     NaN   210.210000     NaN   \n",
       "\n",
       "           Duration        Sales     Product Name Destination  \n",
       "count   3000.000000  3000.000000             3000        3000  \n",
       "unique          NaN          NaN                5           3  \n",
       "top             NaN          NaN  Customised Plan        ASIA  \n",
       "freq            NaN          NaN             1136        2465  \n",
       "mean      70.001333    60.249913              NaN         NaN  \n",
       "std      134.053313    70.733954              NaN         NaN  \n",
       "min       -1.000000     0.000000              NaN         NaN  \n",
       "25%       11.000000    20.000000              NaN         NaN  \n",
       "50%       26.500000    33.000000              NaN         NaN  \n",
       "75%       63.000000    69.000000              NaN         NaN  \n",
       "max     4580.000000   539.000000              NaN         NaN  "
      ]
     },
     "execution_count": 7,
     "metadata": {},
     "output_type": "execute_result"
    }
   ],
   "source": [
    "df.describe(include = 'all')"
   ]
  },
  {
   "cell_type": "code",
   "execution_count": 8,
   "id": "f1a2a287",
   "metadata": {},
   "outputs": [
    {
     "name": "stdout",
     "output_type": "stream",
     "text": [
      "Number of duplicate rows = 139\n"
     ]
    },
    {
     "data": {
      "text/html": [
       "<div>\n",
       "<style scoped>\n",
       "    .dataframe tbody tr th:only-of-type {\n",
       "        vertical-align: middle;\n",
       "    }\n",
       "\n",
       "    .dataframe tbody tr th {\n",
       "        vertical-align: top;\n",
       "    }\n",
       "\n",
       "    .dataframe thead th {\n",
       "        text-align: right;\n",
       "    }\n",
       "</style>\n",
       "<table border=\"1\" class=\"dataframe\">\n",
       "  <thead>\n",
       "    <tr style=\"text-align: right;\">\n",
       "      <th></th>\n",
       "      <th>Age</th>\n",
       "      <th>Agency_Code</th>\n",
       "      <th>Type</th>\n",
       "      <th>Claimed</th>\n",
       "      <th>Commision</th>\n",
       "      <th>Channel</th>\n",
       "      <th>Duration</th>\n",
       "      <th>Sales</th>\n",
       "      <th>Product Name</th>\n",
       "      <th>Destination</th>\n",
       "    </tr>\n",
       "  </thead>\n",
       "  <tbody>\n",
       "    <tr>\n",
       "      <th>63</th>\n",
       "      <td>30</td>\n",
       "      <td>C2B</td>\n",
       "      <td>Airlines</td>\n",
       "      <td>Yes</td>\n",
       "      <td>15.0</td>\n",
       "      <td>Online</td>\n",
       "      <td>27</td>\n",
       "      <td>60.0</td>\n",
       "      <td>Bronze Plan</td>\n",
       "      <td>ASIA</td>\n",
       "    </tr>\n",
       "    <tr>\n",
       "      <th>329</th>\n",
       "      <td>36</td>\n",
       "      <td>EPX</td>\n",
       "      <td>Travel Agency</td>\n",
       "      <td>No</td>\n",
       "      <td>0.0</td>\n",
       "      <td>Online</td>\n",
       "      <td>5</td>\n",
       "      <td>20.0</td>\n",
       "      <td>Customised Plan</td>\n",
       "      <td>ASIA</td>\n",
       "    </tr>\n",
       "    <tr>\n",
       "      <th>407</th>\n",
       "      <td>36</td>\n",
       "      <td>EPX</td>\n",
       "      <td>Travel Agency</td>\n",
       "      <td>No</td>\n",
       "      <td>0.0</td>\n",
       "      <td>Online</td>\n",
       "      <td>11</td>\n",
       "      <td>19.0</td>\n",
       "      <td>Cancellation Plan</td>\n",
       "      <td>ASIA</td>\n",
       "    </tr>\n",
       "    <tr>\n",
       "      <th>411</th>\n",
       "      <td>35</td>\n",
       "      <td>EPX</td>\n",
       "      <td>Travel Agency</td>\n",
       "      <td>No</td>\n",
       "      <td>0.0</td>\n",
       "      <td>Online</td>\n",
       "      <td>2</td>\n",
       "      <td>20.0</td>\n",
       "      <td>Customised Plan</td>\n",
       "      <td>ASIA</td>\n",
       "    </tr>\n",
       "    <tr>\n",
       "      <th>422</th>\n",
       "      <td>36</td>\n",
       "      <td>EPX</td>\n",
       "      <td>Travel Agency</td>\n",
       "      <td>No</td>\n",
       "      <td>0.0</td>\n",
       "      <td>Online</td>\n",
       "      <td>5</td>\n",
       "      <td>20.0</td>\n",
       "      <td>Customised Plan</td>\n",
       "      <td>ASIA</td>\n",
       "    </tr>\n",
       "    <tr>\n",
       "      <th>...</th>\n",
       "      <td>...</td>\n",
       "      <td>...</td>\n",
       "      <td>...</td>\n",
       "      <td>...</td>\n",
       "      <td>...</td>\n",
       "      <td>...</td>\n",
       "      <td>...</td>\n",
       "      <td>...</td>\n",
       "      <td>...</td>\n",
       "      <td>...</td>\n",
       "    </tr>\n",
       "    <tr>\n",
       "      <th>2940</th>\n",
       "      <td>36</td>\n",
       "      <td>EPX</td>\n",
       "      <td>Travel Agency</td>\n",
       "      <td>No</td>\n",
       "      <td>0.0</td>\n",
       "      <td>Online</td>\n",
       "      <td>8</td>\n",
       "      <td>10.0</td>\n",
       "      <td>Cancellation Plan</td>\n",
       "      <td>ASIA</td>\n",
       "    </tr>\n",
       "    <tr>\n",
       "      <th>2947</th>\n",
       "      <td>36</td>\n",
       "      <td>EPX</td>\n",
       "      <td>Travel Agency</td>\n",
       "      <td>No</td>\n",
       "      <td>0.0</td>\n",
       "      <td>Online</td>\n",
       "      <td>10</td>\n",
       "      <td>28.0</td>\n",
       "      <td>Customised Plan</td>\n",
       "      <td>ASIA</td>\n",
       "    </tr>\n",
       "    <tr>\n",
       "      <th>2952</th>\n",
       "      <td>36</td>\n",
       "      <td>EPX</td>\n",
       "      <td>Travel Agency</td>\n",
       "      <td>No</td>\n",
       "      <td>0.0</td>\n",
       "      <td>Online</td>\n",
       "      <td>2</td>\n",
       "      <td>10.0</td>\n",
       "      <td>Cancellation Plan</td>\n",
       "      <td>ASIA</td>\n",
       "    </tr>\n",
       "    <tr>\n",
       "      <th>2962</th>\n",
       "      <td>36</td>\n",
       "      <td>EPX</td>\n",
       "      <td>Travel Agency</td>\n",
       "      <td>No</td>\n",
       "      <td>0.0</td>\n",
       "      <td>Online</td>\n",
       "      <td>4</td>\n",
       "      <td>20.0</td>\n",
       "      <td>Customised Plan</td>\n",
       "      <td>ASIA</td>\n",
       "    </tr>\n",
       "    <tr>\n",
       "      <th>2984</th>\n",
       "      <td>36</td>\n",
       "      <td>EPX</td>\n",
       "      <td>Travel Agency</td>\n",
       "      <td>No</td>\n",
       "      <td>0.0</td>\n",
       "      <td>Online</td>\n",
       "      <td>1</td>\n",
       "      <td>20.0</td>\n",
       "      <td>Customised Plan</td>\n",
       "      <td>ASIA</td>\n",
       "    </tr>\n",
       "  </tbody>\n",
       "</table>\n",
       "<p>139 rows × 10 columns</p>\n",
       "</div>"
      ],
      "text/plain": [
       "      Age Agency_Code           Type Claimed  Commision Channel  Duration  \\\n",
       "63     30         C2B       Airlines     Yes       15.0  Online        27   \n",
       "329    36         EPX  Travel Agency      No        0.0  Online         5   \n",
       "407    36         EPX  Travel Agency      No        0.0  Online        11   \n",
       "411    35         EPX  Travel Agency      No        0.0  Online         2   \n",
       "422    36         EPX  Travel Agency      No        0.0  Online         5   \n",
       "...   ...         ...            ...     ...        ...     ...       ...   \n",
       "2940   36         EPX  Travel Agency      No        0.0  Online         8   \n",
       "2947   36         EPX  Travel Agency      No        0.0  Online        10   \n",
       "2952   36         EPX  Travel Agency      No        0.0  Online         2   \n",
       "2962   36         EPX  Travel Agency      No        0.0  Online         4   \n",
       "2984   36         EPX  Travel Agency      No        0.0  Online         1   \n",
       "\n",
       "      Sales       Product Name Destination  \n",
       "63     60.0        Bronze Plan        ASIA  \n",
       "329    20.0    Customised Plan        ASIA  \n",
       "407    19.0  Cancellation Plan        ASIA  \n",
       "411    20.0    Customised Plan        ASIA  \n",
       "422    20.0    Customised Plan        ASIA  \n",
       "...     ...                ...         ...  \n",
       "2940   10.0  Cancellation Plan        ASIA  \n",
       "2947   28.0    Customised Plan        ASIA  \n",
       "2952   10.0  Cancellation Plan        ASIA  \n",
       "2962   20.0    Customised Plan        ASIA  \n",
       "2984   20.0    Customised Plan        ASIA  \n",
       "\n",
       "[139 rows x 10 columns]"
      ]
     },
     "execution_count": 8,
     "metadata": {},
     "output_type": "execute_result"
    }
   ],
   "source": [
    "dups = df.duplicated()\n",
    "print('Number of duplicate rows = %d' % (dups.sum()))\n",
    "df[dups]"
   ]
  },
  {
   "cell_type": "code",
   "execution_count": 9,
   "id": "83309a00",
   "metadata": {},
   "outputs": [],
   "source": [
    "df.drop_duplicates(inplace=True)"
   ]
  },
  {
   "cell_type": "code",
   "execution_count": 10,
   "id": "534db88a",
   "metadata": {},
   "outputs": [
    {
     "name": "stdout",
     "output_type": "stream",
     "text": [
      "Number of duplicate rows = 0\n"
     ]
    },
    {
     "data": {
      "text/html": [
       "<div>\n",
       "<style scoped>\n",
       "    .dataframe tbody tr th:only-of-type {\n",
       "        vertical-align: middle;\n",
       "    }\n",
       "\n",
       "    .dataframe tbody tr th {\n",
       "        vertical-align: top;\n",
       "    }\n",
       "\n",
       "    .dataframe thead th {\n",
       "        text-align: right;\n",
       "    }\n",
       "</style>\n",
       "<table border=\"1\" class=\"dataframe\">\n",
       "  <thead>\n",
       "    <tr style=\"text-align: right;\">\n",
       "      <th></th>\n",
       "      <th>Age</th>\n",
       "      <th>Agency_Code</th>\n",
       "      <th>Type</th>\n",
       "      <th>Claimed</th>\n",
       "      <th>Commision</th>\n",
       "      <th>Channel</th>\n",
       "      <th>Duration</th>\n",
       "      <th>Sales</th>\n",
       "      <th>Product Name</th>\n",
       "      <th>Destination</th>\n",
       "    </tr>\n",
       "  </thead>\n",
       "  <tbody>\n",
       "  </tbody>\n",
       "</table>\n",
       "</div>"
      ],
      "text/plain": [
       "Empty DataFrame\n",
       "Columns: [Age, Agency_Code, Type, Claimed, Commision, Channel, Duration, Sales, Product Name, Destination]\n",
       "Index: []"
      ]
     },
     "execution_count": 10,
     "metadata": {},
     "output_type": "execute_result"
    }
   ],
   "source": [
    "dups = df.duplicated()\n",
    "print('Number of duplicate rows = %d' % (dups.sum()))\n",
    "df[dups]"
   ]
  },
  {
   "cell_type": "code",
   "execution_count": 11,
   "id": "985008a9",
   "metadata": {},
   "outputs": [
    {
     "data": {
      "text/plain": [
       "(2861, 10)"
      ]
     },
     "execution_count": 11,
     "metadata": {},
     "output_type": "execute_result"
    }
   ],
   "source": [
    "df.shape"
   ]
  },
  {
   "cell_type": "code",
   "execution_count": 12,
   "id": "185502e7",
   "metadata": {},
   "outputs": [],
   "source": [
    "def univariateAnalysis_numeric(column,nbins):\n",
    "    print(\"Description of \" + column)\n",
    "    print(\"----------------------------------------------------------------------------\")\n",
    "    print(df[column].describe(),end=' ')\n",
    "    \n",
    "    \n",
    "    plt.figure()\n",
    "    print(\"Distribution of \" + column)\n",
    "    print(\"----------------------------------------------------------------------------\")\n",
    "    sns.distplot(df[column], kde=False, color='g');\n",
    "    plt.show()\n",
    "    \n",
    "    plt.figure()\n",
    "    print(\"BoxPlot of \" + column)\n",
    "    print(\"----------------------------------------------------------------------------\")\n",
    "    ax = sns.boxplot(x=df[column])\n",
    "    plt.show()"
   ]
  },
  {
   "cell_type": "code",
   "execution_count": 13,
   "id": "a1d932f3",
   "metadata": {},
   "outputs": [
    {
     "data": {
      "text/plain": [
       "4"
      ]
     },
     "execution_count": 13,
     "metadata": {},
     "output_type": "execute_result"
    }
   ],
   "source": [
    "df_num = df.select_dtypes(include = ['float64', 'int64'])\n",
    "lstnumericcolumns = list(df_num.columns.values)\n",
    "len(lstnumericcolumns)"
   ]
  },
  {
   "cell_type": "code",
   "execution_count": 14,
   "id": "bf531609",
   "metadata": {},
   "outputs": [
    {
     "name": "stdout",
     "output_type": "stream",
     "text": [
      "Description of Age\n",
      "----------------------------------------------------------------------------\n",
      "count    2861.000000\n",
      "mean       38.204124\n",
      "std        10.678106\n",
      "min         8.000000\n",
      "25%        31.000000\n",
      "50%        36.000000\n",
      "75%        43.000000\n",
      "max        84.000000\n",
      "Name: Age, dtype: float64 Distribution of Age\n",
      "----------------------------------------------------------------------------\n"
     ]
    },
    {
     "data": {
      "image/png": "[encoded data removed]",
      "text/plain": [
       "<Figure size 432x288 with 1 Axes>"
      ]
     },
     "metadata": {
      "needs_background": "light"
     },
     "output_type": "display_data"
    },
    {
     "name": "stdout",
     "output_type": "stream",
     "text": [
      "BoxPlot of Age\n",
      "----------------------------------------------------------------------------\n"
     ]
    },
    {
     "data": {
      "image/png": "[encoded data removed]",
      "text/plain": [
       "<Figure size 432x288 with 1 Axes>"
      ]
     },
     "metadata": {
      "needs_background": "light"
     },
     "output_type": "display_data"
    },
    {
     "name": "stdout",
     "output_type": "stream",
     "text": [
      "Description of Commision\n",
      "----------------------------------------------------------------------------\n",
      "count    2861.000000\n",
      "mean       15.080996\n",
      "std        25.826834\n",
      "min         0.000000\n",
      "25%         0.000000\n",
      "50%         5.630000\n",
      "75%        17.820000\n",
      "max       210.210000\n",
      "Name: Commision, dtype: float64 Distribution of Commision\n",
      "----------------------------------------------------------------------------\n"
     ]
    },
    {
     "data": {
      "image/png": "[encoded data removed]",
      "text/plain": [
       "<Figure size 432x288 with 1 Axes>"
      ]
     },
     "metadata": {
      "needs_background": "light"
     },
     "output_type": "display_data"
    },
    {
     "name": "stdout",
     "output_type": "stream",
     "text": [
      "BoxPlot of Commision\n",
      "----------------------------------------------------------------------------\n"
     ]
    },
    {
     "data": {
      "image/png": "[encoded data removed]",
      "text/plain": [
       "<Figure size 432x288 with 1 Axes>"
      ]
     },
     "metadata": {
      "needs_background": "light"
     },
     "output_type": "display_data"
    },
    {
     "name": "stdout",
     "output_type": "stream",
     "text": [
      "Description of Duration\n",
      "----------------------------------------------------------------------------\n",
      "count    2861.000000\n",
      "mean       72.120238\n",
      "std       135.977200\n",
      "min        -1.000000\n",
      "25%        12.000000\n",
      "50%        28.000000\n",
      "75%        66.000000\n",
      "max      4580.000000\n",
      "Name: Duration, dtype: float64 Distribution of Duration\n",
      "----------------------------------------------------------------------------\n"
     ]
    },
    {
     "data": {
      "image/png": "[encoded data removed]",
      "text/plain": [
       "<Figure size 432x288 with 1 Axes>"
      ]
     },
     "metadata": {
      "needs_background": "light"
     },
     "output_type": "display_data"
    },
    {
     "name": "stdout",
     "output_type": "stream",
     "text": [
      "BoxPlot of Duration\n",
      "----------------------------------------------------------------------------\n"
     ]
    },
    {
     "data": {
      "image/png": "[encoded data removed]",
      "text/plain": [
       "<Figure size 432x288 with 1 Axes>"
      ]
     },
     "metadata": {
      "needs_background": "light"
     },
     "output_type": "display_data"
    },
    {
     "name": "stdout",
     "output_type": "stream",
     "text": [
      "Description of Sales\n",
      "----------------------------------------------------------------------------\n",
      "count    2861.000000\n",
      "mean       61.757878\n",
      "std        71.399740\n",
      "min         0.000000\n",
      "25%        20.000000\n",
      "50%        33.500000\n",
      "75%        69.300000\n",
      "max       539.000000\n",
      "Name: Sales, dtype: float64 Distribution of Sales\n",
      "----------------------------------------------------------------------------\n"
     ]
    },
    {
     "data": {
      "image/png": "[encoded data removed]",
      "text/plain": [
       "<Figure size 432x288 with 1 Axes>"
      ]
     },
     "metadata": {
      "needs_background": "light"
     },
     "output_type": "display_data"
    },
    {
     "name": "stdout",
     "output_type": "stream",
     "text": [
      "BoxPlot of Sales\n",
      "----------------------------------------------------------------------------\n"
     ]
    },
    {
     "data": {
      "image/png": "[encoded data removed]",
      "text/plain": [
       "<Figure size 432x288 with 1 Axes>"
      ]
     },
     "metadata": {
      "needs_background": "light"
     },
     "output_type": "display_data"
    }
   ],
   "source": [
    "for x in lstnumericcolumns:\n",
    "    univariateAnalysis_numeric(x,20)"
   ]
  },
  {
   "cell_type": "code",
   "execution_count": 15,
   "id": "2c4ab194",
   "metadata": {},
   "outputs": [],
   "source": [
    "def univariateAnalysis_category(cat_column):\n",
    "    print(\"Details of \" + cat_column)\n",
    "    print(\"----------------------------------------------------------------\")\n",
    "    print(df_cat[cat_column].value_counts())\n",
    "    plt.figure()\n",
    "    df_cat[cat_column].value_counts().plot.bar(title=\"Frequency Distribution of \" + cat_column)\n",
    "    plt.show()\n",
    "    print(\"       \")"
   ]
  },
  {
   "cell_type": "code",
   "execution_count": 16,
   "id": "e04decb3",
   "metadata": {},
   "outputs": [
    {
     "data": {
      "text/plain": [
       "['Agency_Code', 'Type', 'Claimed', 'Channel', 'Product Name', 'Destination']"
      ]
     },
     "execution_count": 16,
     "metadata": {},
     "output_type": "execute_result"
    }
   ],
   "source": [
    "df_cat = df.select_dtypes(include = ['object'])\n",
    "lstcatcolumns = list(df_cat.columns.values)\n",
    "lstcatcolumns"
   ]
  },
  {
   "cell_type": "code",
   "execution_count": 17,
   "id": "9c41ed72",
   "metadata": {},
   "outputs": [
    {
     "name": "stdout",
     "output_type": "stream",
     "text": [
      "Details of Agency_Code\n",
      "----------------------------------------------------------------\n",
      "EPX    1238\n",
      "C2B     913\n",
      "CWT     471\n",
      "JZI     239\n",
      "Name: Agency_Code, dtype: int64\n"
     ]
    },
    {
     "data": {
      "image/png": "[encoded data removed]",
      "text/plain": [
       "<Figure size 432x288 with 1 Axes>"
      ]
     },
     "metadata": {
      "needs_background": "light"
     },
     "output_type": "display_data"
    },
    {
     "name": "stdout",
     "output_type": "stream",
     "text": [
      "       \n",
      "Details of Type\n",
      "----------------------------------------------------------------\n",
      "Travel Agency    1709\n",
      "Airlines         1152\n",
      "Name: Type, dtype: int64\n"
     ]
    },
    {
     "data": {
      "image/png": "[encoded data removed]",
      "text/plain": [
       "<Figure size 432x288 with 1 Axes>"
      ]
     },
     "metadata": {
      "needs_background": "light"
     },
     "output_type": "display_data"
    },
    {
     "name": "stdout",
     "output_type": "stream",
     "text": [
      "       \n",
      "Details of Claimed\n",
      "----------------------------------------------------------------\n",
      "No     1947\n",
      "Yes     914\n",
      "Name: Claimed, dtype: int64\n"
     ]
    },
    {
     "data": {
      "image/png": "[encoded data removed]",
      "text/plain": [
       "<Figure size 432x288 with 1 Axes>"
      ]
     },
     "metadata": {
      "needs_background": "light"
     },
     "output_type": "display_data"
    },
    {
     "name": "stdout",
     "output_type": "stream",
     "text": [
      "       \n",
      "Details of Channel\n",
      "----------------------------------------------------------------\n",
      "Online     2815\n",
      "Offline      46\n",
      "Name: Channel, dtype: int64\n"
     ]
    },
    {
     "data": {
      "image/png": "[encoded data removed]",
      "text/plain": [
       "<Figure size 432x288 with 1 Axes>"
      ]
     },
     "metadata": {
      "needs_background": "light"
     },
     "output_type": "display_data"
    },
    {
     "name": "stdout",
     "output_type": "stream",
     "text": [
      "       \n",
      "Details of Product Name\n",
      "----------------------------------------------------------------\n",
      "Customised Plan      1071\n",
      "Bronze Plan           645\n",
      "Cancellation Plan     615\n",
      "Silver Plan           421\n",
      "Gold Plan             109\n",
      "Name: Product Name, dtype: int64\n"
     ]
    },
    {
     "data": {
      "image/png": "[encoded data removed]",
      "text/plain": [
       "<Figure size 432x288 with 1 Axes>"
      ]
     },
     "metadata": {
      "needs_background": "light"
     },
     "output_type": "display_data"
    },
    {
     "name": "stdout",
     "output_type": "stream",
     "text": [
      "       \n",
      "Details of Destination\n",
      "----------------------------------------------------------------\n",
      "ASIA        2327\n",
      "Americas     319\n",
      "EUROPE       215\n",
      "Name: Destination, dtype: int64\n"
     ]
    },
    {
     "data": {
      "image/png": "[encoded data removed]",
      "text/plain": [
       "<Figure size 432x288 with 1 Axes>"
      ]
     },
     "metadata": {
      "needs_background": "light"
     },
     "output_type": "display_data"
    },
    {
     "name": "stdout",
     "output_type": "stream",
     "text": [
      "       \n"
     ]
    }
   ],
   "source": [
    "for x in lstcatcolumns:\n",
    "    univariateAnalysis_category(x)"
   ]
  },
  {
   "cell_type": "code",
   "execution_count": 18,
   "id": "b02fbbdc",
   "metadata": {},
   "outputs": [],
   "source": [
    "corr = df_num.corr(method='pearson')"
   ]
  },
  {
   "cell_type": "code",
   "execution_count": 19,
   "id": "e9183389",
   "metadata": {},
   "outputs": [
    {
     "data": {
      "image/png": "[encoded data removed]",
      "text/plain": [
       "<Figure size 1800x1080 with 2 Axes>"
      ]
     },
     "metadata": {
      "needs_background": "light"
     },
     "output_type": "display_data"
    }
   ],
   "source": [
    "mask = np.triu(np.ones_like(corr, dtype=np.bool)) \n",
    "fig = plt.subplots(figsize=(25, 15))\n",
    "sns.heatmap(df_num.corr(), annot=True,fmt='.2f',mask=mask)\n",
    "plt.show()"
   ]
  },
  {
   "cell_type": "code",
   "execution_count": 20,
   "id": "2e267273",
   "metadata": {},
   "outputs": [
    {
     "data": {
      "image/png": "[encoded data removed]",
      "text/plain": [
       "<Figure size 1440x1440 with 1 Axes>"
      ]
     },
     "metadata": {
      "needs_background": "light"
     },
     "output_type": "display_data"
    }
   ],
   "source": [
    "df_num.boxplot(figsize=(20,20))\n",
    "plt.xticks(rotation=90)\n",
    "plt.show()"
   ]
  },
  {
   "cell_type": "code",
   "execution_count": 21,
   "id": "7bedc757",
   "metadata": {},
   "outputs": [],
   "source": [
    "for feature in df.columns: \n",
    "    if df[feature].dtype == 'object': \n",
    "        df[feature] = pd.Categorical(df[feature]).codes"
   ]
  },
  {
   "cell_type": "code",
   "execution_count": 22,
   "id": "febfd89a",
   "metadata": {},
   "outputs": [],
   "source": [
    "X = df.drop(\"Claimed\" , axis=1)\n",
    "\n",
    "y = df.pop(\"Claimed\")"
   ]
  },
  {
   "cell_type": "code",
   "execution_count": 23,
   "id": "b3cbffbf",
   "metadata": {},
   "outputs": [],
   "source": [
    "from sklearn.model_selection import train_test_split\n",
    "\n",
    "X_train, X_test, train_labels, test_labels = train_test_split(X, y, test_size=.30, random_state=1)"
   ]
  },
  {
   "cell_type": "markdown",
   "id": "54d7a9e7",
   "metadata": {},
   "source": [
    "## Decision Tree"
   ]
  },
  {
   "cell_type": "code",
   "execution_count": 24,
   "id": "b13a534f",
   "metadata": {},
   "outputs": [],
   "source": [
    "dt_model = DecisionTreeClassifier(criterion = 'gini' )"
   ]
  },
  {
   "cell_type": "code",
   "execution_count": 25,
   "id": "fcf2d124",
   "metadata": {},
   "outputs": [
    {
     "data": {
      "text/plain": [
       "DecisionTreeClassifier()"
      ]
     },
     "execution_count": 25,
     "metadata": {},
     "output_type": "execute_result"
    }
   ],
   "source": [
    "dt_model.fit(X_train, train_labels)"
   ]
  },
  {
   "cell_type": "code",
   "execution_count": 26,
   "id": "b851b8ca",
   "metadata": {},
   "outputs": [],
   "source": [
    "from sklearn.model_selection import GridSearchCV\n",
    "\n",
    "param_grid = {\n",
    "    'max_depth': [7, 8, 9, 10],\n",
    "    'min_samples_leaf': [15, 20, 25],\n",
    "    'min_samples_split': [45, 60, 75]\n",
    "}\n",
    "\n",
    "dt_model = DecisionTreeClassifier()\n",
    "\n",
    "grid_search = GridSearchCV(estimator = dt_model, param_grid = param_grid, cv = 3)"
   ]
  },
  {
   "cell_type": "code",
   "execution_count": 27,
   "id": "9ca7c9f6",
   "metadata": {},
   "outputs": [
    {
     "data": {
      "text/plain": [
       "GridSearchCV(cv=3, estimator=DecisionTreeClassifier(),\n",
       "             param_grid={'max_depth': [7, 8, 9, 10],\n",
       "                         'min_samples_leaf': [15, 20, 25],\n",
       "                         'min_samples_split': [45, 60, 75]})"
      ]
     },
     "execution_count": 27,
     "metadata": {},
     "output_type": "execute_result"
    }
   ],
   "source": [
    "grid_search.fit(X_train, train_labels)"
   ]
  },
  {
   "cell_type": "code",
   "execution_count": 28,
   "id": "30b191ac",
   "metadata": {},
   "outputs": [
    {
     "data": {
      "text/plain": [
       "{'max_depth': 8, 'min_samples_leaf': 20, 'min_samples_split': 45}"
      ]
     },
     "execution_count": 28,
     "metadata": {},
     "output_type": "execute_result"
    }
   ],
   "source": [
    "grid_search.best_params_"
   ]
  },
  {
   "cell_type": "code",
   "execution_count": 29,
   "id": "2d454439",
   "metadata": {},
   "outputs": [],
   "source": [
    "best_grid = grid_search.best_estimator_"
   ]
  },
  {
   "cell_type": "code",
   "execution_count": 30,
   "id": "e9185fab",
   "metadata": {},
   "outputs": [],
   "source": [
    "reg_dt_model = best_grid.fit(X_train, train_labels)"
   ]
  },
  {
   "cell_type": "code",
   "execution_count": 31,
   "id": "ec4af027",
   "metadata": {},
   "outputs": [],
   "source": [
    "ytrain_predict = best_grid.predict(X_train)\n",
    "ytest_predict = best_grid.predict(X_test)"
   ]
  },
  {
   "cell_type": "code",
   "execution_count": 32,
   "id": "0a8979b5",
   "metadata": {},
   "outputs": [],
   "source": [
    "from sklearn.metrics import classification_report,confusion_matrix"
   ]
  },
  {
   "cell_type": "code",
   "execution_count": 33,
   "id": "78f67067",
   "metadata": {},
   "outputs": [
    {
     "name": "stdout",
     "output_type": "stream",
     "text": [
      "              precision    recall  f1-score   support\n",
      "\n",
      "           0       0.82      0.88      0.85      1359\n",
      "           1       0.70      0.59      0.64       643\n",
      "\n",
      "    accuracy                           0.79      2002\n",
      "   macro avg       0.76      0.74      0.75      2002\n",
      "weighted avg       0.78      0.79      0.78      2002\n",
      "\n"
     ]
    }
   ],
   "source": [
    "print(classification_report(train_labels,ytrain_predict))"
   ]
  },
  {
   "cell_type": "code",
   "execution_count": 34,
   "id": "a3e330bb",
   "metadata": {},
   "outputs": [
    {
     "name": "stdout",
     "output_type": "stream",
     "text": [
      "              precision    recall  f1-score   support\n",
      "\n",
      "           0       0.80      0.86      0.83       588\n",
      "           1       0.63      0.53      0.58       271\n",
      "\n",
      "    accuracy                           0.75       859\n",
      "   macro avg       0.72      0.69      0.70       859\n",
      "weighted avg       0.75      0.75      0.75       859\n",
      "\n"
     ]
    }
   ],
   "source": [
    "print(classification_report(test_labels,ytest_predict))"
   ]
  },
  {
   "cell_type": "code",
   "execution_count": 35,
   "id": "4ce9d38f",
   "metadata": {},
   "outputs": [
    {
     "name": "stdout",
     "output_type": "stream",
     "text": [
      "AUC: 0.849\n"
     ]
    },
    {
     "data": {
      "image/png": "[encoded data removed]",
      "text/plain": [
       "<Figure size 432x288 with 1 Axes>"
      ]
     },
     "metadata": {
      "needs_background": "light"
     },
     "output_type": "display_data"
    }
   ],
   "source": [
    "probs = reg_dt_model.predict_proba(X_train)\n",
    "# keep probabilities for the positive outcome only\n",
    "probs = probs[:, 1]\n",
    "# calculate AUC\n",
    "from sklearn.metrics import roc_auc_score\n",
    "auc = roc_auc_score(train_labels, probs)\n",
    "print('AUC: %.3f' % auc)\n",
    "# calculate roc curve\n",
    "from sklearn.metrics import roc_curve\n",
    "fpr, tpr, thresholds = roc_curve(train_labels, probs)\n",
    "plt.plot([0, 1], [0, 1], linestyle='--')\n",
    "# plot the roc curve for the model\n",
    "plt.plot(fpr, tpr, marker='.')\n",
    "# show the plot\n",
    "plt.show()"
   ]
  },
  {
   "cell_type": "code",
   "execution_count": 36,
   "id": "edf5eb02",
   "metadata": {},
   "outputs": [
    {
     "name": "stdout",
     "output_type": "stream",
     "text": [
      "AUC: 0.771\n"
     ]
    },
    {
     "data": {
      "image/png": "[encoded data removed]",
      "text/plain": [
       "<Figure size 432x288 with 1 Axes>"
      ]
     },
     "metadata": {
      "needs_background": "light"
     },
     "output_type": "display_data"
    }
   ],
   "source": [
    "probs = reg_dt_model.predict_proba(X_test)\n",
    "# keep probabilities for the positive outcome only\n",
    "probs = probs[:, 1]\n",
    "# calculate AUC\n",
    "from sklearn.metrics import roc_auc_score\n",
    "auc = roc_auc_score(test_labels, probs)\n",
    "print('AUC: %.3f' % auc)\n",
    "# calculate roc curve\n",
    "from sklearn.metrics import roc_curve\n",
    "fpr, tpr, thresholds = roc_curve(test_labels, probs)\n",
    "plt.plot([0, 1], [0, 1], linestyle='--')\n",
    "# plot the roc curve for the model\n",
    "plt.plot(fpr, tpr, marker='.')\n",
    "# show the plot\n",
    "plt.show()"
   ]
  },
  {
   "cell_type": "code",
   "execution_count": 37,
   "id": "a5496ccd",
   "metadata": {},
   "outputs": [
    {
     "data": {
      "text/plain": [
       "array([[1199,  160],\n",
       "       [ 262,  381]], dtype=int64)"
      ]
     },
     "execution_count": 37,
     "metadata": {},
     "output_type": "execute_result"
    }
   ],
   "source": [
    "confusion_matrix(train_labels, ytrain_predict)"
   ]
  },
  {
   "cell_type": "code",
   "execution_count": 38,
   "id": "3357d583",
   "metadata": {},
   "outputs": [
    {
     "data": {
      "text/plain": [
       "array([[504,  84],\n",
       "       [127, 144]], dtype=int64)"
      ]
     },
     "execution_count": 38,
     "metadata": {},
     "output_type": "execute_result"
    }
   ],
   "source": [
    "confusion_matrix(test_labels, ytest_predict)"
   ]
  },
  {
   "cell_type": "code",
   "execution_count": 39,
   "id": "7b46976d",
   "metadata": {},
   "outputs": [
    {
     "data": {
      "text/plain": [
       "0.7892107892107892"
      ]
     },
     "execution_count": 39,
     "metadata": {},
     "output_type": "execute_result"
    }
   ],
   "source": [
    "reg_dt_model.score(X_train,train_labels)"
   ]
  },
  {
   "cell_type": "code",
   "execution_count": 40,
   "id": "2e2b58e7",
   "metadata": {},
   "outputs": [
    {
     "data": {
      "text/plain": [
       "0.7543655413271245"
      ]
     },
     "execution_count": 40,
     "metadata": {},
     "output_type": "execute_result"
    }
   ],
   "source": [
    "reg_dt_model.score(X_test,test_labels)"
   ]
  },
  {
   "cell_type": "markdown",
   "id": "234a7c7e",
   "metadata": {},
   "source": [
    "## Random Forest"
   ]
  },
  {
   "cell_type": "code",
   "execution_count": 41,
   "id": "21126d33",
   "metadata": {},
   "outputs": [],
   "source": [
    "from sklearn.model_selection import GridSearchCV\n",
    "\n",
    "param_grid = {\n",
    "    'max_depth': [7, 8, 9, 10],\n",
    "    'max_features': [8, 10, 11, 12],\n",
    "    'min_samples_leaf': [25, 50, 100],\n",
    "    'min_samples_split': [75, 150, 300],\n",
    "    'n_estimators': [301, 501]\n",
    "}\n",
    "\n",
    "rfcl = RandomForestClassifier()\n",
    "\n",
    "grid_search1 = GridSearchCV(estimator = rfcl, param_grid = param_grid, cv = 3)\n",
    "\n"
   ]
  },
  {
   "cell_type": "code",
   "execution_count": 42,
   "id": "34b8050a",
   "metadata": {},
   "outputs": [
    {
     "data": {
      "text/plain": [
       "GridSearchCV(cv=3, estimator=RandomForestClassifier(),\n",
       "             param_grid={'max_depth': [7, 8, 9, 10],\n",
       "                         'max_features': [8, 10, 11, 12],\n",
       "                         'min_samples_leaf': [25, 50, 100],\n",
       "                         'min_samples_split': [75, 150, 300],\n",
       "                         'n_estimators': [301, 501]})"
      ]
     },
     "execution_count": 42,
     "metadata": {},
     "output_type": "execute_result"
    }
   ],
   "source": [
    "grid_search1.fit(X_train, train_labels)"
   ]
  },
  {
   "cell_type": "code",
   "execution_count": 44,
   "id": "e9cd96d0",
   "metadata": {},
   "outputs": [
    {
     "data": {
      "text/plain": [
       "{'max_depth': 9,\n",
       " 'max_features': 8,\n",
       " 'min_samples_leaf': 25,\n",
       " 'min_samples_split': 75,\n",
       " 'n_estimators': 501}"
      ]
     },
     "execution_count": 44,
     "metadata": {},
     "output_type": "execute_result"
    }
   ],
   "source": [
    "grid_search1.best_params_"
   ]
  },
  {
   "cell_type": "code",
   "execution_count": 48,
   "id": "1faed353",
   "metadata": {},
   "outputs": [],
   "source": [
    "best_grid = grid_search1.best_estimator_"
   ]
  },
  {
   "cell_type": "code",
   "execution_count": 49,
   "id": "8090910d",
   "metadata": {},
   "outputs": [],
   "source": [
    "reg_rf_model = best_grid.fit(X_train, train_labels)"
   ]
  },
  {
   "cell_type": "code",
   "execution_count": 45,
   "id": "812c624b",
   "metadata": {},
   "outputs": [],
   "source": [
    "ytrain_predict1 = best_grid.predict(X_train)\n",
    "ytest_predict1 = best_grid.predict(X_test)"
   ]
  },
  {
   "cell_type": "code",
   "execution_count": 46,
   "id": "efdbd8cb",
   "metadata": {},
   "outputs": [
    {
     "name": "stdout",
     "output_type": "stream",
     "text": [
      "              precision    recall  f1-score   support\n",
      "\n",
      "           0       0.82      0.88      0.85      1359\n",
      "           1       0.70      0.59      0.64       643\n",
      "\n",
      "    accuracy                           0.79      2002\n",
      "   macro avg       0.76      0.74      0.75      2002\n",
      "weighted avg       0.78      0.79      0.78      2002\n",
      "\n"
     ]
    }
   ],
   "source": [
    "print(classification_report(train_labels,ytrain_predict1))"
   ]
  },
  {
   "cell_type": "code",
   "execution_count": 47,
   "id": "ce004728",
   "metadata": {},
   "outputs": [
    {
     "name": "stdout",
     "output_type": "stream",
     "text": [
      "              precision    recall  f1-score   support\n",
      "\n",
      "           0       0.80      0.86      0.83       588\n",
      "           1       0.63      0.53      0.58       271\n",
      "\n",
      "    accuracy                           0.75       859\n",
      "   macro avg       0.72      0.69      0.70       859\n",
      "weighted avg       0.75      0.75      0.75       859\n",
      "\n"
     ]
    }
   ],
   "source": [
    "print(classification_report(test_labels,ytest_predict))"
   ]
  },
  {
   "cell_type": "code",
   "execution_count": 50,
   "id": "6907e464",
   "metadata": {},
   "outputs": [
    {
     "name": "stdout",
     "output_type": "stream",
     "text": [
      "AUC: 0.843\n"
     ]
    },
    {
     "data": {
      "image/png": "[encoded data removed]",
      "text/plain": [
       "<Figure size 432x288 with 1 Axes>"
      ]
     },
     "metadata": {
      "needs_background": "light"
     },
     "output_type": "display_data"
    }
   ],
   "source": [
    "probs = reg_rf_model.predict_proba(X_train)\n",
    "# keep probabilities for the positive outcome only\n",
    "probs = probs[:, 1]\n",
    "# calculate AUC\n",
    "from sklearn.metrics import roc_auc_score\n",
    "auc = roc_auc_score(train_labels, probs)\n",
    "print('AUC: %.3f' % auc)\n",
    "# calculate roc curve\n",
    "from sklearn.metrics import roc_curve\n",
    "fpr, tpr, thresholds = roc_curve(train_labels, probs)\n",
    "plt.plot([0, 1], [0, 1], linestyle='--')\n",
    "# plot the roc curve for the model\n",
    "plt.plot(fpr, tpr, marker='.')\n",
    "# show the plot\n",
    "plt.show()"
   ]
  },
  {
   "cell_type": "code",
   "execution_count": 51,
   "id": "e18fb5c7",
   "metadata": {},
   "outputs": [
    {
     "name": "stdout",
     "output_type": "stream",
     "text": [
      "AUC: 0.810\n"
     ]
    },
    {
     "data": {
      "image/png": "[encoded data removed]",
      "text/plain": [
       "<Figure size 432x288 with 1 Axes>"
      ]
     },
     "metadata": {
      "needs_background": "light"
     },
     "output_type": "display_data"
    }
   ],
   "source": [
    "probs = reg_rf_model.predict_proba(X_test)\n",
    "# keep probabilities for the positive outcome only\n",
    "probs = probs[:, 1]\n",
    "# calculate AUC\n",
    "from sklearn.metrics import roc_auc_score\n",
    "auc = roc_auc_score(test_labels, probs)\n",
    "print('AUC: %.3f' % auc)\n",
    "# calculate roc curve\n",
    "from sklearn.metrics import roc_curve\n",
    "fpr, tpr, thresholds = roc_curve(test_labels, probs)\n",
    "plt.plot([0, 1], [0, 1], linestyle='--')\n",
    "# plot the roc curve for the model\n",
    "plt.plot(fpr, tpr, marker='.')\n",
    "# show the plot\n",
    "plt.show()"
   ]
  },
  {
   "cell_type": "code",
   "execution_count": 52,
   "id": "e6403f18",
   "metadata": {},
   "outputs": [
    {
     "data": {
      "text/plain": [
       "array([[1199,  160],\n",
       "       [ 262,  381]], dtype=int64)"
      ]
     },
     "execution_count": 52,
     "metadata": {},
     "output_type": "execute_result"
    }
   ],
   "source": [
    "confusion_matrix(train_labels,ytrain_predict1)"
   ]
  },
  {
   "cell_type": "code",
   "execution_count": 53,
   "id": "99dbd08a",
   "metadata": {},
   "outputs": [
    {
     "data": {
      "text/plain": [
       "array([[504,  84],\n",
       "       [127, 144]], dtype=int64)"
      ]
     },
     "execution_count": 53,
     "metadata": {},
     "output_type": "execute_result"
    }
   ],
   "source": [
    "confusion_matrix(test_labels,ytest_predict1)"
   ]
  },
  {
   "cell_type": "code",
   "execution_count": 73,
   "id": "d52cd2f9",
   "metadata": {},
   "outputs": [
    {
     "data": {
      "text/plain": [
       "0.7922077922077922"
      ]
     },
     "execution_count": 73,
     "metadata": {},
     "output_type": "execute_result"
    }
   ],
   "source": [
    "reg_rf_model.score(X_train,train_labels)"
   ]
  },
  {
   "cell_type": "code",
   "execution_count": 74,
   "id": "f09d8748",
   "metadata": {},
   "outputs": [
    {
     "data": {
      "text/plain": [
       "0.7823050058207218"
      ]
     },
     "execution_count": 74,
     "metadata": {},
     "output_type": "execute_result"
    }
   ],
   "source": [
    "reg_rf_model.score(X_test,test_labels)"
   ]
  },
  {
   "cell_type": "markdown",
   "id": "b2823598",
   "metadata": {},
   "source": [
    "## MPL Classifier"
   ]
  },
  {
   "cell_type": "code",
   "execution_count": 54,
   "id": "3e45d78f",
   "metadata": {},
   "outputs": [],
   "source": [
    "from sklearn.preprocessing import StandardScaler \n",
    "sc = StandardScaler() \n",
    "X_trains = sc.fit_transform(X_train) \n",
    "X_tests = sc.transform (X_test)"
   ]
  },
  {
   "cell_type": "code",
   "execution_count": 55,
   "id": "a5f275c5",
   "metadata": {},
   "outputs": [],
   "source": [
    "param_grid = {\n",
    "    'hidden_layer_sizes': [(100,100,100)],\n",
    "    'activation': ['logistic', 'relu'],\n",
    "    'solver': ['sgd', 'adam'],\n",
    "    'tol': [0.1,0.01],\n",
    "    'max_iter' : [10000]\n",
    "}\n",
    "\n",
    "rfcl = MLPClassifier()\n",
    "\n",
    "grid_search2 = GridSearchCV(estimator = rfcl, param_grid = param_grid, cv = 3)"
   ]
  },
  {
   "cell_type": "code",
   "execution_count": 56,
   "id": "67ea9fb9",
   "metadata": {},
   "outputs": [
    {
     "data": {
      "text/plain": [
       "GridSearchCV(cv=3, estimator=MLPClassifier(),\n",
       "             param_grid={'activation': ['logistic', 'relu'],\n",
       "                         'hidden_layer_sizes': [(100, 100, 100)],\n",
       "                         'max_iter': [10000], 'solver': ['sgd', 'adam'],\n",
       "                         'tol': [0.1, 0.01]})"
      ]
     },
     "execution_count": 56,
     "metadata": {},
     "output_type": "execute_result"
    }
   ],
   "source": [
    "grid_search2.fit(X_trains, train_labels)"
   ]
  },
  {
   "cell_type": "code",
   "execution_count": 58,
   "id": "2b0a839e",
   "metadata": {},
   "outputs": [
    {
     "data": {
      "text/plain": [
       "{'activation': 'relu',\n",
       " 'hidden_layer_sizes': (100, 100, 100),\n",
       " 'max_iter': 10000,\n",
       " 'solver': 'adam',\n",
       " 'tol': 0.1}"
      ]
     },
     "execution_count": 58,
     "metadata": {},
     "output_type": "execute_result"
    }
   ],
   "source": [
    "grid_search2.best_params_"
   ]
  },
  {
   "cell_type": "code",
   "execution_count": 62,
   "id": "e00b5eef",
   "metadata": {},
   "outputs": [],
   "source": [
    "best_grid = grid_search2.best_estimator_"
   ]
  },
  {
   "cell_type": "code",
   "execution_count": 63,
   "id": "7d04e112",
   "metadata": {},
   "outputs": [],
   "source": [
    "ytrain_predict2 = best_grid.predict(X_trains)\n",
    "ytest_predict2 = best_grid.predict(X_tests)"
   ]
  },
  {
   "cell_type": "code",
   "execution_count": 64,
   "id": "73774afb",
   "metadata": {},
   "outputs": [
    {
     "name": "stdout",
     "output_type": "stream",
     "text": [
      "AUC: 0.803\n"
     ]
    },
    {
     "data": {
      "image/png": "[encoded data removed]",
      "text/plain": [
       "<Figure size 432x288 with 1 Axes>"
      ]
     },
     "metadata": {
      "needs_background": "light"
     },
     "output_type": "display_data"
    }
   ],
   "source": [
    "probs = best_grid.predict_proba(X_trains)\n",
    "# keep probabilities for the positive outcome only\n",
    "probs = probs[:, 1]\n",
    "# calculate AUC\n",
    "from sklearn.metrics import roc_auc_score\n",
    "auc = roc_auc_score(train_labels, probs)\n",
    "print('AUC: %.3f' % auc)\n",
    "# calculate roc curve\n",
    "from sklearn.metrics import roc_curve\n",
    "fpr, tpr, thresholds = roc_curve(train_labels, probs)\n",
    "plt.plot([0, 1], [0, 1], linestyle='--')\n",
    "# plot the roc curve for the model\n",
    "plt.plot(fpr, tpr, marker='.')\n",
    "# show the plot\n",
    "plt.show()"
   ]
  },
  {
   "cell_type": "code",
   "execution_count": 65,
   "id": "d5a63a15",
   "metadata": {},
   "outputs": [
    {
     "name": "stdout",
     "output_type": "stream",
     "text": [
      "AUC: 0.801\n"
     ]
    },
    {
     "data": {
      "image/png": "[encoded data removed]",
      "text/plain": [
       "<Figure size 432x288 with 1 Axes>"
      ]
     },
     "metadata": {
      "needs_background": "light"
     },
     "output_type": "display_data"
    }
   ],
   "source": [
    "probs = best_grid.predict_proba(X_tests)\n",
    "# keep probabilities for the positive outcome only\n",
    "probs = probs[:, 1]\n",
    "# calculate AUC\n",
    "from sklearn.metrics import roc_auc_score\n",
    "auc = roc_auc_score(test_labels, probs)\n",
    "print('AUC: %.3f' % auc)\n",
    "# calculate roc curve\n",
    "from sklearn.metrics import roc_curve\n",
    "fpr, tpr, thresholds = roc_curve(test_labels, probs)\n",
    "plt.plot([0, 1], [0, 1], linestyle='--')\n",
    "# plot the roc curve for the model\n",
    "plt.plot(fpr, tpr, marker='.')\n",
    "# show the plot\n",
    "plt.show()"
   ]
  },
  {
   "cell_type": "code",
   "execution_count": 66,
   "id": "ca3982b3",
   "metadata": {},
   "outputs": [
    {
     "name": "stdout",
     "output_type": "stream",
     "text": [
      "              precision    recall  f1-score   support\n",
      "\n",
      "           0       0.81      0.87      0.84      1359\n",
      "           1       0.67      0.57      0.61       643\n",
      "\n",
      "    accuracy                           0.77      2002\n",
      "   macro avg       0.74      0.72      0.72      2002\n",
      "weighted avg       0.76      0.77      0.76      2002\n",
      "\n"
     ]
    }
   ],
   "source": [
    "print(classification_report(train_labels,ytrain_predict2))"
   ]
  },
  {
   "cell_type": "code",
   "execution_count": 67,
   "id": "1ef5101e",
   "metadata": {},
   "outputs": [
    {
     "name": "stdout",
     "output_type": "stream",
     "text": [
      "              precision    recall  f1-score   support\n",
      "\n",
      "           0       0.81      0.86      0.83       588\n",
      "           1       0.65      0.56      0.60       271\n",
      "\n",
      "    accuracy                           0.76       859\n",
      "   macro avg       0.73      0.71      0.72       859\n",
      "weighted avg       0.76      0.76      0.76       859\n",
      "\n"
     ]
    }
   ],
   "source": [
    "print(classification_report(test_labels,ytest_predict2))"
   ]
  },
  {
   "cell_type": "code",
   "execution_count": 68,
   "id": "2a554e7f",
   "metadata": {},
   "outputs": [
    {
     "data": {
      "text/plain": [
       "array([[1176,  183],\n",
       "       [ 278,  365]], dtype=int64)"
      ]
     },
     "execution_count": 68,
     "metadata": {},
     "output_type": "execute_result"
    }
   ],
   "source": [
    "confusion_matrix(train_labels,ytrain_predict2)"
   ]
  },
  {
   "cell_type": "code",
   "execution_count": 69,
   "id": "175dbd55",
   "metadata": {},
   "outputs": [
    {
     "data": {
      "text/plain": [
       "array([[506,  82],\n",
       "       [120, 151]], dtype=int64)"
      ]
     },
     "execution_count": 69,
     "metadata": {},
     "output_type": "execute_result"
    }
   ],
   "source": [
    "confusion_matrix(test_labels,ytest_predict2)"
   ]
  },
  {
   "cell_type": "code",
   "execution_count": 71,
   "id": "f206e40c",
   "metadata": {},
   "outputs": [
    {
     "data": {
      "text/plain": [
       "0.7697302697302697"
      ]
     },
     "execution_count": 71,
     "metadata": {},
     "output_type": "execute_result"
    }
   ],
   "source": [
    "best_grid.score(X_trains,train_labels)"
   ]
  },
  {
   "cell_type": "code",
   "execution_count": 75,
   "id": "b6a078df",
   "metadata": {},
   "outputs": [
    {
     "data": {
      "text/plain": [
       "0.7648428405122235"
      ]
     },
     "execution_count": 75,
     "metadata": {},
     "output_type": "execute_result"
    }
   ],
   "source": [
    "best_grid.score(X_tests,test_labels)"
   ]
  },
  {
   "cell_type": "code",
   "execution_count": null,
   "id": "88b20202",
   "metadata": {},
   "outputs": [],
   "source": []
  }
 ],
 "metadata": {
  "kernelspec": {
   "display_name": "Python 3",
   "language": "python",
   "name": "python3"
  },
  "language_info": {
   "codemirror_mode": {
    "name": "ipython",
    "version": 3
   },
   "file_extension": ".py",
   "mimetype": "text/x-python",
   "name": "python",
   "nbconvert_exporter": "python",
   "pygments_lexer": "ipython3",
   "version": "3.8.8"
  }
 },
 "nbformat": 4,
 "nbformat_minor": 5
}
